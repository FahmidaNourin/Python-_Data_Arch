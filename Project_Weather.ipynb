{
  "nbformat": 4,
  "nbformat_minor": 0,
  "metadata": {
    "colab": {
      "provenance": [],
      "include_colab_link": true
    },
    "kernelspec": {
      "name": "python3",
      "display_name": "Python 3"
    },
    "language_info": {
      "name": "python"
    }
  },
  "cells": [
    {
      "cell_type": "markdown",
      "metadata": {
        "id": "view-in-github",
        "colab_type": "text"
      },
      "source": [
        "<a href=\"https://colab.research.google.com/github/FahmidaNourin/Python-_Data_Arch/blob/main/Project_Weather.ipynb\" target=\"_parent\"><img src=\"https://colab.research.google.com/assets/colab-badge.svg\" alt=\"Open In Colab\"/></a>"
      ]
    },
    {
      "cell_type": "code",
      "execution_count": 20,
      "metadata": {
        "id": "7zsEZXf9L8iL"
      },
      "outputs": [],
      "source": [
        "import numpy as np\n",
        "import pandas as pd"
      ]
    },
    {
      "cell_type": "code",
      "source": [
        "df=pd.read_csv(\"https://raw.githubusercontent.com/RafsanJany-44/Machine-School/main/datasets/weather.csv\")"
      ],
      "metadata": {
        "id": "Soxir9luOB27"
      },
      "execution_count": 21,
      "outputs": []
    },
    {
      "cell_type": "code",
      "source": [
        "df.head(10)"
      ],
      "metadata": {
        "colab": {
          "base_uri": "https://localhost:8080/",
          "height": 456
        },
        "id": "ZaTPvP56ORob",
        "outputId": "acb988aa-2ad8-4dfd-aa87-ecff28ee37b9"
      },
      "execution_count": 22,
      "outputs": [
        {
          "output_type": "execute_result",
          "data": {
            "text/plain": [
              "   MinTemp  MaxTemp  Rainfall  Evaporation  Sunshine WindGustDir  \\\n",
              "0      8.0     24.3       0.0          3.4       6.3          NW   \n",
              "1     14.0     26.9       3.6          4.4       9.7         ENE   \n",
              "2     13.7     23.4       3.6          5.8       3.3          NW   \n",
              "3     13.3     15.5      39.8          7.2       9.1          NW   \n",
              "4      7.6     16.1       2.8          5.6      10.6         SSE   \n",
              "5      6.2     16.9       0.0          5.8       8.2          SE   \n",
              "6      6.1     18.2       0.2          4.2       8.4          SE   \n",
              "7      8.3     17.0       0.0          5.6       4.6           E   \n",
              "8      8.8     19.5       0.0          4.0       4.1           S   \n",
              "9      8.4     22.8      16.2          5.4       7.7           E   \n",
              "\n",
              "   WindGustSpeed WindDir9am WindDir3pm  WindSpeed9am  ...  Humidity3pm  \\\n",
              "0           30.0         SW         NW           6.0  ...           29   \n",
              "1           39.0          E          W           4.0  ...           36   \n",
              "2           85.0          N        NNE           6.0  ...           69   \n",
              "3           54.0        WNW          W          30.0  ...           56   \n",
              "4           50.0        SSE        ESE          20.0  ...           49   \n",
              "5           44.0         SE          E          20.0  ...           57   \n",
              "6           43.0         SE        ESE          19.0  ...           47   \n",
              "7           41.0         SE          E          11.0  ...           57   \n",
              "8           48.0          E        ENE          19.0  ...           48   \n",
              "9           31.0          S        ESE           7.0  ...           32   \n",
              "\n",
              "   Pressure9am  Pressure3pm  Cloud9am  Cloud3pm  Temp9am  Temp3pm  RainToday  \\\n",
              "0       1019.7       1015.0         7         7     14.4     23.6         No   \n",
              "1       1012.4       1008.4         5         3     17.5     25.7        Yes   \n",
              "2       1009.5       1007.2         8         7     15.4     20.2        Yes   \n",
              "3       1005.5       1007.0         2         7     13.5     14.1        Yes   \n",
              "4       1018.3       1018.5         7         7     11.1     15.4        Yes   \n",
              "5       1023.8       1021.7         7         5     10.9     14.8         No   \n",
              "6       1024.6       1022.2         4         6     12.4     17.3         No   \n",
              "7       1026.2       1024.2         6         7     12.1     15.5         No   \n",
              "8       1026.1       1022.7         7         7     14.1     18.9         No   \n",
              "9       1024.1       1020.7         7         1     13.3     21.7        Yes   \n",
              "\n",
              "   RISK_MM RainTomorrow  \n",
              "0      3.6          Yes  \n",
              "1      3.6          Yes  \n",
              "2     39.8          Yes  \n",
              "3      2.8          Yes  \n",
              "4      0.0           No  \n",
              "5      0.2           No  \n",
              "6      0.0           No  \n",
              "7      0.0           No  \n",
              "8     16.2          Yes  \n",
              "9      0.0           No  \n",
              "\n",
              "[10 rows x 22 columns]"
            ],
            "text/html": [
              "\n",
              "  <div id=\"df-088f6350-eb26-4261-a9bf-678a230238ad\">\n",
              "    <div class=\"colab-df-container\">\n",
              "      <div>\n",
              "<style scoped>\n",
              "    .dataframe tbody tr th:only-of-type {\n",
              "        vertical-align: middle;\n",
              "    }\n",
              "\n",
              "    .dataframe tbody tr th {\n",
              "        vertical-align: top;\n",
              "    }\n",
              "\n",
              "    .dataframe thead th {\n",
              "        text-align: right;\n",
              "    }\n",
              "</style>\n",
              "<table border=\"1\" class=\"dataframe\">\n",
              "  <thead>\n",
              "    <tr style=\"text-align: right;\">\n",
              "      <th></th>\n",
              "      <th>MinTemp</th>\n",
              "      <th>MaxTemp</th>\n",
              "      <th>Rainfall</th>\n",
              "      <th>Evaporation</th>\n",
              "      <th>Sunshine</th>\n",
              "      <th>WindGustDir</th>\n",
              "      <th>WindGustSpeed</th>\n",
              "      <th>WindDir9am</th>\n",
              "      <th>WindDir3pm</th>\n",
              "      <th>WindSpeed9am</th>\n",
              "      <th>...</th>\n",
              "      <th>Humidity3pm</th>\n",
              "      <th>Pressure9am</th>\n",
              "      <th>Pressure3pm</th>\n",
              "      <th>Cloud9am</th>\n",
              "      <th>Cloud3pm</th>\n",
              "      <th>Temp9am</th>\n",
              "      <th>Temp3pm</th>\n",
              "      <th>RainToday</th>\n",
              "      <th>RISK_MM</th>\n",
              "      <th>RainTomorrow</th>\n",
              "    </tr>\n",
              "  </thead>\n",
              "  <tbody>\n",
              "    <tr>\n",
              "      <th>0</th>\n",
              "      <td>8.0</td>\n",
              "      <td>24.3</td>\n",
              "      <td>0.0</td>\n",
              "      <td>3.4</td>\n",
              "      <td>6.3</td>\n",
              "      <td>NW</td>\n",
              "      <td>30.0</td>\n",
              "      <td>SW</td>\n",
              "      <td>NW</td>\n",
              "      <td>6.0</td>\n",
              "      <td>...</td>\n",
              "      <td>29</td>\n",
              "      <td>1019.7</td>\n",
              "      <td>1015.0</td>\n",
              "      <td>7</td>\n",
              "      <td>7</td>\n",
              "      <td>14.4</td>\n",
              "      <td>23.6</td>\n",
              "      <td>No</td>\n",
              "      <td>3.6</td>\n",
              "      <td>Yes</td>\n",
              "    </tr>\n",
              "    <tr>\n",
              "      <th>1</th>\n",
              "      <td>14.0</td>\n",
              "      <td>26.9</td>\n",
              "      <td>3.6</td>\n",
              "      <td>4.4</td>\n",
              "      <td>9.7</td>\n",
              "      <td>ENE</td>\n",
              "      <td>39.0</td>\n",
              "      <td>E</td>\n",
              "      <td>W</td>\n",
              "      <td>4.0</td>\n",
              "      <td>...</td>\n",
              "      <td>36</td>\n",
              "      <td>1012.4</td>\n",
              "      <td>1008.4</td>\n",
              "      <td>5</td>\n",
              "      <td>3</td>\n",
              "      <td>17.5</td>\n",
              "      <td>25.7</td>\n",
              "      <td>Yes</td>\n",
              "      <td>3.6</td>\n",
              "      <td>Yes</td>\n",
              "    </tr>\n",
              "    <tr>\n",
              "      <th>2</th>\n",
              "      <td>13.7</td>\n",
              "      <td>23.4</td>\n",
              "      <td>3.6</td>\n",
              "      <td>5.8</td>\n",
              "      <td>3.3</td>\n",
              "      <td>NW</td>\n",
              "      <td>85.0</td>\n",
              "      <td>N</td>\n",
              "      <td>NNE</td>\n",
              "      <td>6.0</td>\n",
              "      <td>...</td>\n",
              "      <td>69</td>\n",
              "      <td>1009.5</td>\n",
              "      <td>1007.2</td>\n",
              "      <td>8</td>\n",
              "      <td>7</td>\n",
              "      <td>15.4</td>\n",
              "      <td>20.2</td>\n",
              "      <td>Yes</td>\n",
              "      <td>39.8</td>\n",
              "      <td>Yes</td>\n",
              "    </tr>\n",
              "    <tr>\n",
              "      <th>3</th>\n",
              "      <td>13.3</td>\n",
              "      <td>15.5</td>\n",
              "      <td>39.8</td>\n",
              "      <td>7.2</td>\n",
              "      <td>9.1</td>\n",
              "      <td>NW</td>\n",
              "      <td>54.0</td>\n",
              "      <td>WNW</td>\n",
              "      <td>W</td>\n",
              "      <td>30.0</td>\n",
              "      <td>...</td>\n",
              "      <td>56</td>\n",
              "      <td>1005.5</td>\n",
              "      <td>1007.0</td>\n",
              "      <td>2</td>\n",
              "      <td>7</td>\n",
              "      <td>13.5</td>\n",
              "      <td>14.1</td>\n",
              "      <td>Yes</td>\n",
              "      <td>2.8</td>\n",
              "      <td>Yes</td>\n",
              "    </tr>\n",
              "    <tr>\n",
              "      <th>4</th>\n",
              "      <td>7.6</td>\n",
              "      <td>16.1</td>\n",
              "      <td>2.8</td>\n",
              "      <td>5.6</td>\n",
              "      <td>10.6</td>\n",
              "      <td>SSE</td>\n",
              "      <td>50.0</td>\n",
              "      <td>SSE</td>\n",
              "      <td>ESE</td>\n",
              "      <td>20.0</td>\n",
              "      <td>...</td>\n",
              "      <td>49</td>\n",
              "      <td>1018.3</td>\n",
              "      <td>1018.5</td>\n",
              "      <td>7</td>\n",
              "      <td>7</td>\n",
              "      <td>11.1</td>\n",
              "      <td>15.4</td>\n",
              "      <td>Yes</td>\n",
              "      <td>0.0</td>\n",
              "      <td>No</td>\n",
              "    </tr>\n",
              "    <tr>\n",
              "      <th>5</th>\n",
              "      <td>6.2</td>\n",
              "      <td>16.9</td>\n",
              "      <td>0.0</td>\n",
              "      <td>5.8</td>\n",
              "      <td>8.2</td>\n",
              "      <td>SE</td>\n",
              "      <td>44.0</td>\n",
              "      <td>SE</td>\n",
              "      <td>E</td>\n",
              "      <td>20.0</td>\n",
              "      <td>...</td>\n",
              "      <td>57</td>\n",
              "      <td>1023.8</td>\n",
              "      <td>1021.7</td>\n",
              "      <td>7</td>\n",
              "      <td>5</td>\n",
              "      <td>10.9</td>\n",
              "      <td>14.8</td>\n",
              "      <td>No</td>\n",
              "      <td>0.2</td>\n",
              "      <td>No</td>\n",
              "    </tr>\n",
              "    <tr>\n",
              "      <th>6</th>\n",
              "      <td>6.1</td>\n",
              "      <td>18.2</td>\n",
              "      <td>0.2</td>\n",
              "      <td>4.2</td>\n",
              "      <td>8.4</td>\n",
              "      <td>SE</td>\n",
              "      <td>43.0</td>\n",
              "      <td>SE</td>\n",
              "      <td>ESE</td>\n",
              "      <td>19.0</td>\n",
              "      <td>...</td>\n",
              "      <td>47</td>\n",
              "      <td>1024.6</td>\n",
              "      <td>1022.2</td>\n",
              "      <td>4</td>\n",
              "      <td>6</td>\n",
              "      <td>12.4</td>\n",
              "      <td>17.3</td>\n",
              "      <td>No</td>\n",
              "      <td>0.0</td>\n",
              "      <td>No</td>\n",
              "    </tr>\n",
              "    <tr>\n",
              "      <th>7</th>\n",
              "      <td>8.3</td>\n",
              "      <td>17.0</td>\n",
              "      <td>0.0</td>\n",
              "      <td>5.6</td>\n",
              "      <td>4.6</td>\n",
              "      <td>E</td>\n",
              "      <td>41.0</td>\n",
              "      <td>SE</td>\n",
              "      <td>E</td>\n",
              "      <td>11.0</td>\n",
              "      <td>...</td>\n",
              "      <td>57</td>\n",
              "      <td>1026.2</td>\n",
              "      <td>1024.2</td>\n",
              "      <td>6</td>\n",
              "      <td>7</td>\n",
              "      <td>12.1</td>\n",
              "      <td>15.5</td>\n",
              "      <td>No</td>\n",
              "      <td>0.0</td>\n",
              "      <td>No</td>\n",
              "    </tr>\n",
              "    <tr>\n",
              "      <th>8</th>\n",
              "      <td>8.8</td>\n",
              "      <td>19.5</td>\n",
              "      <td>0.0</td>\n",
              "      <td>4.0</td>\n",
              "      <td>4.1</td>\n",
              "      <td>S</td>\n",
              "      <td>48.0</td>\n",
              "      <td>E</td>\n",
              "      <td>ENE</td>\n",
              "      <td>19.0</td>\n",
              "      <td>...</td>\n",
              "      <td>48</td>\n",
              "      <td>1026.1</td>\n",
              "      <td>1022.7</td>\n",
              "      <td>7</td>\n",
              "      <td>7</td>\n",
              "      <td>14.1</td>\n",
              "      <td>18.9</td>\n",
              "      <td>No</td>\n",
              "      <td>16.2</td>\n",
              "      <td>Yes</td>\n",
              "    </tr>\n",
              "    <tr>\n",
              "      <th>9</th>\n",
              "      <td>8.4</td>\n",
              "      <td>22.8</td>\n",
              "      <td>16.2</td>\n",
              "      <td>5.4</td>\n",
              "      <td>7.7</td>\n",
              "      <td>E</td>\n",
              "      <td>31.0</td>\n",
              "      <td>S</td>\n",
              "      <td>ESE</td>\n",
              "      <td>7.0</td>\n",
              "      <td>...</td>\n",
              "      <td>32</td>\n",
              "      <td>1024.1</td>\n",
              "      <td>1020.7</td>\n",
              "      <td>7</td>\n",
              "      <td>1</td>\n",
              "      <td>13.3</td>\n",
              "      <td>21.7</td>\n",
              "      <td>Yes</td>\n",
              "      <td>0.0</td>\n",
              "      <td>No</td>\n",
              "    </tr>\n",
              "  </tbody>\n",
              "</table>\n",
              "<p>10 rows × 22 columns</p>\n",
              "</div>\n",
              "      <button class=\"colab-df-convert\" onclick=\"convertToInteractive('df-088f6350-eb26-4261-a9bf-678a230238ad')\"\n",
              "              title=\"Convert this dataframe to an interactive table.\"\n",
              "              style=\"display:none;\">\n",
              "        \n",
              "  <svg xmlns=\"http://www.w3.org/2000/svg\" height=\"24px\"viewBox=\"0 0 24 24\"\n",
              "       width=\"24px\">\n",
              "    <path d=\"M0 0h24v24H0V0z\" fill=\"none\"/>\n",
              "    <path d=\"M18.56 5.44l.94 2.06.94-2.06 2.06-.94-2.06-.94-.94-2.06-.94 2.06-2.06.94zm-11 1L8.5 8.5l.94-2.06 2.06-.94-2.06-.94L8.5 2.5l-.94 2.06-2.06.94zm10 10l.94 2.06.94-2.06 2.06-.94-2.06-.94-.94-2.06-.94 2.06-2.06.94z\"/><path d=\"M17.41 7.96l-1.37-1.37c-.4-.4-.92-.59-1.43-.59-.52 0-1.04.2-1.43.59L10.3 9.45l-7.72 7.72c-.78.78-.78 2.05 0 2.83L4 21.41c.39.39.9.59 1.41.59.51 0 1.02-.2 1.41-.59l7.78-7.78 2.81-2.81c.8-.78.8-2.07 0-2.86zM5.41 20L4 18.59l7.72-7.72 1.47 1.35L5.41 20z\"/>\n",
              "  </svg>\n",
              "      </button>\n",
              "      \n",
              "  <style>\n",
              "    .colab-df-container {\n",
              "      display:flex;\n",
              "      flex-wrap:wrap;\n",
              "      gap: 12px;\n",
              "    }\n",
              "\n",
              "    .colab-df-convert {\n",
              "      background-color: #E8F0FE;\n",
              "      border: none;\n",
              "      border-radius: 50%;\n",
              "      cursor: pointer;\n",
              "      display: none;\n",
              "      fill: #1967D2;\n",
              "      height: 32px;\n",
              "      padding: 0 0 0 0;\n",
              "      width: 32px;\n",
              "    }\n",
              "\n",
              "    .colab-df-convert:hover {\n",
              "      background-color: #E2EBFA;\n",
              "      box-shadow: 0px 1px 2px rgba(60, 64, 67, 0.3), 0px 1px 3px 1px rgba(60, 64, 67, 0.15);\n",
              "      fill: #174EA6;\n",
              "    }\n",
              "\n",
              "    [theme=dark] .colab-df-convert {\n",
              "      background-color: #3B4455;\n",
              "      fill: #D2E3FC;\n",
              "    }\n",
              "\n",
              "    [theme=dark] .colab-df-convert:hover {\n",
              "      background-color: #434B5C;\n",
              "      box-shadow: 0px 1px 3px 1px rgba(0, 0, 0, 0.15);\n",
              "      filter: drop-shadow(0px 1px 2px rgba(0, 0, 0, 0.3));\n",
              "      fill: #FFFFFF;\n",
              "    }\n",
              "  </style>\n",
              "\n",
              "      <script>\n",
              "        const buttonEl =\n",
              "          document.querySelector('#df-088f6350-eb26-4261-a9bf-678a230238ad button.colab-df-convert');\n",
              "        buttonEl.style.display =\n",
              "          google.colab.kernel.accessAllowed ? 'block' : 'none';\n",
              "\n",
              "        async function convertToInteractive(key) {\n",
              "          const element = document.querySelector('#df-088f6350-eb26-4261-a9bf-678a230238ad');\n",
              "          const dataTable =\n",
              "            await google.colab.kernel.invokeFunction('convertToInteractive',\n",
              "                                                     [key], {});\n",
              "          if (!dataTable) return;\n",
              "\n",
              "          const docLinkHtml = 'Like what you see? Visit the ' +\n",
              "            '<a target=\"_blank\" href=https://colab.research.google.com/notebooks/data_table.ipynb>data table notebook</a>'\n",
              "            + ' to learn more about interactive tables.';\n",
              "          element.innerHTML = '';\n",
              "          dataTable['output_type'] = 'display_data';\n",
              "          await google.colab.output.renderOutput(dataTable, element);\n",
              "          const docLink = document.createElement('div');\n",
              "          docLink.innerHTML = docLinkHtml;\n",
              "          element.appendChild(docLink);\n",
              "        }\n",
              "      </script>\n",
              "    </div>\n",
              "  </div>\n",
              "  "
            ]
          },
          "metadata": {},
          "execution_count": 22
        }
      ]
    },
    {
      "cell_type": "code",
      "source": [
        "df.columns"
      ],
      "metadata": {
        "colab": {
          "base_uri": "https://localhost:8080/"
        },
        "id": "AuSaE5tnOYvG",
        "outputId": "2255b0e9-ae64-41e9-b177-28c46a9b1e48"
      },
      "execution_count": 23,
      "outputs": [
        {
          "output_type": "execute_result",
          "data": {
            "text/plain": [
              "Index(['MinTemp', 'MaxTemp', 'Rainfall', 'Evaporation', 'Sunshine',\n",
              "       'WindGustDir', 'WindGustSpeed', 'WindDir9am', 'WindDir3pm',\n",
              "       'WindSpeed9am', 'WindSpeed3pm', 'Humidity9am', 'Humidity3pm',\n",
              "       'Pressure9am', 'Pressure3pm', 'Cloud9am', 'Cloud3pm', 'Temp9am',\n",
              "       'Temp3pm', 'RainToday', 'RISK_MM', 'RainTomorrow'],\n",
              "      dtype='object')"
            ]
          },
          "metadata": {},
          "execution_count": 23
        }
      ]
    },
    {
      "cell_type": "code",
      "source": [
        "df.shape"
      ],
      "metadata": {
        "colab": {
          "base_uri": "https://localhost:8080/"
        },
        "id": "bnXx2qWJTggw",
        "outputId": "91a30844-7103-469d-8f7d-e128974522d0"
      },
      "execution_count": 24,
      "outputs": [
        {
          "output_type": "execute_result",
          "data": {
            "text/plain": [
              "(366, 22)"
            ]
          },
          "metadata": {},
          "execution_count": 24
        }
      ]
    },
    {
      "cell_type": "code",
      "source": [
        "df.info()"
      ],
      "metadata": {
        "colab": {
          "base_uri": "https://localhost:8080/"
        },
        "id": "UObZ5kPROzLL",
        "outputId": "170194fe-da28-4ad4-ead7-f70128614a1d"
      },
      "execution_count": 25,
      "outputs": [
        {
          "output_type": "stream",
          "name": "stdout",
          "text": [
            "<class 'pandas.core.frame.DataFrame'>\n",
            "RangeIndex: 366 entries, 0 to 365\n",
            "Data columns (total 22 columns):\n",
            " #   Column         Non-Null Count  Dtype  \n",
            "---  ------         --------------  -----  \n",
            " 0   MinTemp        366 non-null    float64\n",
            " 1   MaxTemp        366 non-null    float64\n",
            " 2   Rainfall       366 non-null    float64\n",
            " 3   Evaporation    366 non-null    float64\n",
            " 4   Sunshine       363 non-null    float64\n",
            " 5   WindGustDir    363 non-null    object \n",
            " 6   WindGustSpeed  364 non-null    float64\n",
            " 7   WindDir9am     335 non-null    object \n",
            " 8   WindDir3pm     365 non-null    object \n",
            " 9   WindSpeed9am   359 non-null    float64\n",
            " 10  WindSpeed3pm   366 non-null    int64  \n",
            " 11  Humidity9am    366 non-null    int64  \n",
            " 12  Humidity3pm    366 non-null    int64  \n",
            " 13  Pressure9am    366 non-null    float64\n",
            " 14  Pressure3pm    366 non-null    float64\n",
            " 15  Cloud9am       366 non-null    int64  \n",
            " 16  Cloud3pm       366 non-null    int64  \n",
            " 17  Temp9am        366 non-null    float64\n",
            " 18  Temp3pm        366 non-null    float64\n",
            " 19  RainToday      366 non-null    object \n",
            " 20  RISK_MM        366 non-null    float64\n",
            " 21  RainTomorrow   366 non-null    object \n",
            "dtypes: float64(12), int64(5), object(5)\n",
            "memory usage: 63.0+ KB\n"
          ]
        }
      ]
    },
    {
      "cell_type": "code",
      "source": [
        "df.dropna(axis = 0, how='any', inplace = True)\n",
        "df= df.reset_index(drop = True)       # reseting starting index and ending index\n",
        "     "
      ],
      "metadata": {
        "id": "5jI6e5IdT-dk"
      },
      "execution_count": 48,
      "outputs": []
    },
    {
      "cell_type": "code",
      "source": [
        "df.shape"
      ],
      "metadata": {
        "colab": {
          "base_uri": "https://localhost:8080/"
        },
        "id": "53DDH7mkUKW3",
        "outputId": "946452d5-da9d-45ec-edbd-4034178ea8e6"
      },
      "execution_count": 28,
      "outputs": [
        {
          "output_type": "execute_result",
          "data": {
            "text/plain": [
              "(328, 22)"
            ]
          },
          "metadata": {},
          "execution_count": 28
        }
      ]
    },
    {
      "cell_type": "code",
      "source": [
        "df.info()"
      ],
      "metadata": {
        "colab": {
          "base_uri": "https://localhost:8080/"
        },
        "id": "JeJQxnYIUUG3",
        "outputId": "a27c8f0e-e422-46b7-98f8-0829c166f5aa"
      },
      "execution_count": 29,
      "outputs": [
        {
          "output_type": "stream",
          "name": "stdout",
          "text": [
            "<class 'pandas.core.frame.DataFrame'>\n",
            "Int64Index: 328 entries, 0 to 365\n",
            "Data columns (total 22 columns):\n",
            " #   Column         Non-Null Count  Dtype  \n",
            "---  ------         --------------  -----  \n",
            " 0   MinTemp        328 non-null    float64\n",
            " 1   MaxTemp        328 non-null    float64\n",
            " 2   Rainfall       328 non-null    float64\n",
            " 3   Evaporation    328 non-null    float64\n",
            " 4   Sunshine       328 non-null    float64\n",
            " 5   WindGustDir    328 non-null    object \n",
            " 6   WindGustSpeed  328 non-null    float64\n",
            " 7   WindDir9am     328 non-null    object \n",
            " 8   WindDir3pm     328 non-null    object \n",
            " 9   WindSpeed9am   328 non-null    float64\n",
            " 10  WindSpeed3pm   328 non-null    int64  \n",
            " 11  Humidity9am    328 non-null    int64  \n",
            " 12  Humidity3pm    328 non-null    int64  \n",
            " 13  Pressure9am    328 non-null    float64\n",
            " 14  Pressure3pm    328 non-null    float64\n",
            " 15  Cloud9am       328 non-null    int64  \n",
            " 16  Cloud3pm       328 non-null    int64  \n",
            " 17  Temp9am        328 non-null    float64\n",
            " 18  Temp3pm        328 non-null    float64\n",
            " 19  RainToday      328 non-null    object \n",
            " 20  RISK_MM        328 non-null    float64\n",
            " 21  RainTomorrow   328 non-null    object \n",
            "dtypes: float64(12), int64(5), object(5)\n",
            "memory usage: 58.9+ KB\n"
          ]
        }
      ]
    },
    {
      "cell_type": "code",
      "source": [
        "li=[\"WindGustDir\", \"WindDir9am\",\"WindDir3pm\",\"RainToday\",\"RainTomorrow\"]"
      ],
      "metadata": {
        "id": "UAaLlNp3U2uc"
      },
      "execution_count": 30,
      "outputs": []
    },
    {
      "cell_type": "code",
      "source": [
        "df[\"WindGustDir\"].value_counts()"
      ],
      "metadata": {
        "id": "EYuJHjBqVkEO",
        "outputId": "340c6c8a-9b54-43f1-c3b6-fe1717023dac",
        "colab": {
          "base_uri": "https://localhost:8080/"
        }
      },
      "execution_count": 31,
      "outputs": [
        {
          "output_type": "execute_result",
          "data": {
            "text/plain": [
              "NW     64\n",
              "NNW    35\n",
              "E      34\n",
              "WNW    32\n",
              "ENE    29\n",
              "ESE    23\n",
              "S      21\n",
              "N      21\n",
              "NE     15\n",
              "W      15\n",
              "SSE    12\n",
              "SE     11\n",
              "NNE     7\n",
              "SSW     4\n",
              "SW      3\n",
              "WSW     2\n",
              "Name: WindGustDir, dtype: int64"
            ]
          },
          "metadata": {},
          "execution_count": 31
        }
      ]
    },
    {
      "cell_type": "code",
      "source": [
        "from sklearn.preprocessing import LabelEncoder\n",
        "encd = LabelEncoder()"
      ],
      "metadata": {
        "id": "7gORvPp8X6h8"
      },
      "execution_count": 32,
      "outputs": []
    },
    {
      "cell_type": "code",
      "source": [
        "df[\"WindGustDir\"] = encd.fit_transform(df[\"WindGustDir\"])"
      ],
      "metadata": {
        "id": "yrGle4qZYMVr"
      },
      "execution_count": 33,
      "outputs": []
    },
    {
      "cell_type": "code",
      "source": [
        "df[\"WindGustDir\"].value_counts()"
      ],
      "metadata": {
        "id": "FlBo7OFdYghL",
        "outputId": "a5b3e028-8061-4b99-e1d9-39230f7d4d8b",
        "colab": {
          "base_uri": "https://localhost:8080/"
        }
      },
      "execution_count": 34,
      "outputs": [
        {
          "output_type": "execute_result",
          "data": {
            "text/plain": [
              "7     64\n",
              "6     35\n",
              "0     34\n",
              "14    32\n",
              "1     29\n",
              "2     23\n",
              "8     21\n",
              "3     21\n",
              "4     15\n",
              "13    15\n",
              "10    12\n",
              "9     11\n",
              "5      7\n",
              "11     4\n",
              "12     3\n",
              "15     2\n",
              "Name: WindGustDir, dtype: int64"
            ]
          },
          "metadata": {},
          "execution_count": 34
        }
      ]
    },
    {
      "cell_type": "code",
      "source": [
        "df[\"WindDir9am\"] = encd.fit_transform(df[\"WindDir9am\"])\n",
        "df[\"WindDir3pm\"] = encd.fit_transform(df[\"WindDir3pm\"])\n",
        "df[\"RainToday\"] = encd.fit_transform(df[\"RainToday\"])\n"
      ],
      "metadata": {
        "id": "aF_OctK9Y28u"
      },
      "execution_count": 39,
      "outputs": []
    },
    {
      "cell_type": "code",
      "source": [
        "df[\"RainTomorrow\"].value_counts()"
      ],
      "metadata": {
        "colab": {
          "base_uri": "https://localhost:8080/"
        },
        "id": "dIXWo4JUZA9q",
        "outputId": "52fda036-36a1-44ac-e29f-edaf91a6667d"
      },
      "execution_count": 41,
      "outputs": [
        {
          "output_type": "execute_result",
          "data": {
            "text/plain": [
              "0    268\n",
              "1     60\n",
              "Name: RainTomorrow, dtype: int64"
            ]
          },
          "metadata": {},
          "execution_count": 41
        }
      ]
    },
    {
      "cell_type": "code",
      "source": [
        "df[\"RainTomorrow\"] = encd.fit_transform(df[\"RainTomorrow\"])\n",
        "df[\"RainTomorrow\"].value_counts()"
      ],
      "metadata": {
        "colab": {
          "base_uri": "https://localhost:8080/"
        },
        "id": "Plgp2LgUZafO",
        "outputId": "fcb7637c-0d5a-423a-a500-11dfb62bfa45"
      },
      "execution_count": 37,
      "outputs": [
        {
          "output_type": "execute_result",
          "data": {
            "text/plain": [
              "0    268\n",
              "1     60\n",
              "Name: RainTomorrow, dtype: int64"
            ]
          },
          "metadata": {},
          "execution_count": 37
        }
      ]
    },
    {
      "cell_type": "code",
      "source": [
        "df.info()"
      ],
      "metadata": {
        "colab": {
          "base_uri": "https://localhost:8080/"
        },
        "id": "oxhkAVDVZx1b",
        "outputId": "e55c286b-ab7a-4b97-e0d3-2c47b48e9f06"
      },
      "execution_count": 38,
      "outputs": [
        {
          "output_type": "stream",
          "name": "stdout",
          "text": [
            "<class 'pandas.core.frame.DataFrame'>\n",
            "Int64Index: 328 entries, 0 to 365\n",
            "Data columns (total 22 columns):\n",
            " #   Column         Non-Null Count  Dtype  \n",
            "---  ------         --------------  -----  \n",
            " 0   MinTemp        328 non-null    float64\n",
            " 1   MaxTemp        328 non-null    float64\n",
            " 2   Rainfall       328 non-null    float64\n",
            " 3   Evaporation    328 non-null    float64\n",
            " 4   Sunshine       328 non-null    float64\n",
            " 5   WindGustDir    328 non-null    int64  \n",
            " 6   WindGustSpeed  328 non-null    float64\n",
            " 7   WindDir9am     328 non-null    int64  \n",
            " 8   WindDir3pm     328 non-null    int64  \n",
            " 9   WindSpeed9am   328 non-null    float64\n",
            " 10  WindSpeed3pm   328 non-null    int64  \n",
            " 11  Humidity9am    328 non-null    int64  \n",
            " 12  Humidity3pm    328 non-null    int64  \n",
            " 13  Pressure9am    328 non-null    float64\n",
            " 14  Pressure3pm    328 non-null    float64\n",
            " 15  Cloud9am       328 non-null    int64  \n",
            " 16  Cloud3pm       328 non-null    int64  \n",
            " 17  Temp9am        328 non-null    float64\n",
            " 18  Temp3pm        328 non-null    float64\n",
            " 19  RainToday      328 non-null    int64  \n",
            " 20  RISK_MM        328 non-null    float64\n",
            " 21  RainTomorrow   328 non-null    int64  \n",
            "dtypes: float64(12), int64(10)\n",
            "memory usage: 58.9 KB\n"
          ]
        }
      ]
    },
    {
      "cell_type": "code",
      "source": [
        "loc -> location, iloc -> index location"
      ],
      "metadata": {
        "id": "3BL13Y4STQVX"
      },
      "execution_count": null,
      "outputs": []
    },
    {
      "cell_type": "code",
      "source": [
        "k = df.loc[:,[\"WindGustDir\",\"WindGustSpeed\",\"Cloud9am\",\"Temp3pm\"]]"
      ],
      "metadata": {
        "id": "oyj94kw7VB6T"
      },
      "execution_count": 55,
      "outputs": []
    },
    {
      "cell_type": "code",
      "source": [
        "k.head(-1)"
      ],
      "metadata": {
        "id": "ePGfowa7V9Nx",
        "outputId": "ee577336-e8da-4c6a-8da5-c430199f0550",
        "colab": {
          "base_uri": "https://localhost:8080/",
          "height": 424
        }
      },
      "execution_count": 56,
      "outputs": [
        {
          "output_type": "execute_result",
          "data": {
            "text/plain": [
              "     WindGustDir  WindGustSpeed  Cloud9am  Temp3pm\n",
              "0              7           30.0         7     23.6\n",
              "1              1           39.0         5     25.7\n",
              "2              7           85.0         8     20.2\n",
              "3              7           54.0         2     14.1\n",
              "4             10           50.0         7     15.4\n",
              "..           ...            ...       ...      ...\n",
              "322            3           43.0         0     24.8\n",
              "323            6           76.0         1     30.0\n",
              "324            3           48.0         0     28.2\n",
              "325            2           43.0         3     18.3\n",
              "326            7           46.0         6     25.9\n",
              "\n",
              "[327 rows x 4 columns]"
            ],
            "text/html": [
              "\n",
              "  <div id=\"df-42e64a45-9627-4e5b-93b4-04941ff4e5af\">\n",
              "    <div class=\"colab-df-container\">\n",
              "      <div>\n",
              "<style scoped>\n",
              "    .dataframe tbody tr th:only-of-type {\n",
              "        vertical-align: middle;\n",
              "    }\n",
              "\n",
              "    .dataframe tbody tr th {\n",
              "        vertical-align: top;\n",
              "    }\n",
              "\n",
              "    .dataframe thead th {\n",
              "        text-align: right;\n",
              "    }\n",
              "</style>\n",
              "<table border=\"1\" class=\"dataframe\">\n",
              "  <thead>\n",
              "    <tr style=\"text-align: right;\">\n",
              "      <th></th>\n",
              "      <th>WindGustDir</th>\n",
              "      <th>WindGustSpeed</th>\n",
              "      <th>Cloud9am</th>\n",
              "      <th>Temp3pm</th>\n",
              "    </tr>\n",
              "  </thead>\n",
              "  <tbody>\n",
              "    <tr>\n",
              "      <th>0</th>\n",
              "      <td>7</td>\n",
              "      <td>30.0</td>\n",
              "      <td>7</td>\n",
              "      <td>23.6</td>\n",
              "    </tr>\n",
              "    <tr>\n",
              "      <th>1</th>\n",
              "      <td>1</td>\n",
              "      <td>39.0</td>\n",
              "      <td>5</td>\n",
              "      <td>25.7</td>\n",
              "    </tr>\n",
              "    <tr>\n",
              "      <th>2</th>\n",
              "      <td>7</td>\n",
              "      <td>85.0</td>\n",
              "      <td>8</td>\n",
              "      <td>20.2</td>\n",
              "    </tr>\n",
              "    <tr>\n",
              "      <th>3</th>\n",
              "      <td>7</td>\n",
              "      <td>54.0</td>\n",
              "      <td>2</td>\n",
              "      <td>14.1</td>\n",
              "    </tr>\n",
              "    <tr>\n",
              "      <th>4</th>\n",
              "      <td>10</td>\n",
              "      <td>50.0</td>\n",
              "      <td>7</td>\n",
              "      <td>15.4</td>\n",
              "    </tr>\n",
              "    <tr>\n",
              "      <th>...</th>\n",
              "      <td>...</td>\n",
              "      <td>...</td>\n",
              "      <td>...</td>\n",
              "      <td>...</td>\n",
              "    </tr>\n",
              "    <tr>\n",
              "      <th>322</th>\n",
              "      <td>3</td>\n",
              "      <td>43.0</td>\n",
              "      <td>0</td>\n",
              "      <td>24.8</td>\n",
              "    </tr>\n",
              "    <tr>\n",
              "      <th>323</th>\n",
              "      <td>6</td>\n",
              "      <td>76.0</td>\n",
              "      <td>1</td>\n",
              "      <td>30.0</td>\n",
              "    </tr>\n",
              "    <tr>\n",
              "      <th>324</th>\n",
              "      <td>3</td>\n",
              "      <td>48.0</td>\n",
              "      <td>0</td>\n",
              "      <td>28.2</td>\n",
              "    </tr>\n",
              "    <tr>\n",
              "      <th>325</th>\n",
              "      <td>2</td>\n",
              "      <td>43.0</td>\n",
              "      <td>3</td>\n",
              "      <td>18.3</td>\n",
              "    </tr>\n",
              "    <tr>\n",
              "      <th>326</th>\n",
              "      <td>7</td>\n",
              "      <td>46.0</td>\n",
              "      <td>6</td>\n",
              "      <td>25.9</td>\n",
              "    </tr>\n",
              "  </tbody>\n",
              "</table>\n",
              "<p>327 rows × 4 columns</p>\n",
              "</div>\n",
              "      <button class=\"colab-df-convert\" onclick=\"convertToInteractive('df-42e64a45-9627-4e5b-93b4-04941ff4e5af')\"\n",
              "              title=\"Convert this dataframe to an interactive table.\"\n",
              "              style=\"display:none;\">\n",
              "        \n",
              "  <svg xmlns=\"http://www.w3.org/2000/svg\" height=\"24px\"viewBox=\"0 0 24 24\"\n",
              "       width=\"24px\">\n",
              "    <path d=\"M0 0h24v24H0V0z\" fill=\"none\"/>\n",
              "    <path d=\"M18.56 5.44l.94 2.06.94-2.06 2.06-.94-2.06-.94-.94-2.06-.94 2.06-2.06.94zm-11 1L8.5 8.5l.94-2.06 2.06-.94-2.06-.94L8.5 2.5l-.94 2.06-2.06.94zm10 10l.94 2.06.94-2.06 2.06-.94-2.06-.94-.94-2.06-.94 2.06-2.06.94z\"/><path d=\"M17.41 7.96l-1.37-1.37c-.4-.4-.92-.59-1.43-.59-.52 0-1.04.2-1.43.59L10.3 9.45l-7.72 7.72c-.78.78-.78 2.05 0 2.83L4 21.41c.39.39.9.59 1.41.59.51 0 1.02-.2 1.41-.59l7.78-7.78 2.81-2.81c.8-.78.8-2.07 0-2.86zM5.41 20L4 18.59l7.72-7.72 1.47 1.35L5.41 20z\"/>\n",
              "  </svg>\n",
              "      </button>\n",
              "      \n",
              "  <style>\n",
              "    .colab-df-container {\n",
              "      display:flex;\n",
              "      flex-wrap:wrap;\n",
              "      gap: 12px;\n",
              "    }\n",
              "\n",
              "    .colab-df-convert {\n",
              "      background-color: #E8F0FE;\n",
              "      border: none;\n",
              "      border-radius: 50%;\n",
              "      cursor: pointer;\n",
              "      display: none;\n",
              "      fill: #1967D2;\n",
              "      height: 32px;\n",
              "      padding: 0 0 0 0;\n",
              "      width: 32px;\n",
              "    }\n",
              "\n",
              "    .colab-df-convert:hover {\n",
              "      background-color: #E2EBFA;\n",
              "      box-shadow: 0px 1px 2px rgba(60, 64, 67, 0.3), 0px 1px 3px 1px rgba(60, 64, 67, 0.15);\n",
              "      fill: #174EA6;\n",
              "    }\n",
              "\n",
              "    [theme=dark] .colab-df-convert {\n",
              "      background-color: #3B4455;\n",
              "      fill: #D2E3FC;\n",
              "    }\n",
              "\n",
              "    [theme=dark] .colab-df-convert:hover {\n",
              "      background-color: #434B5C;\n",
              "      box-shadow: 0px 1px 3px 1px rgba(0, 0, 0, 0.15);\n",
              "      filter: drop-shadow(0px 1px 2px rgba(0, 0, 0, 0.3));\n",
              "      fill: #FFFFFF;\n",
              "    }\n",
              "  </style>\n",
              "\n",
              "      <script>\n",
              "        const buttonEl =\n",
              "          document.querySelector('#df-42e64a45-9627-4e5b-93b4-04941ff4e5af button.colab-df-convert');\n",
              "        buttonEl.style.display =\n",
              "          google.colab.kernel.accessAllowed ? 'block' : 'none';\n",
              "\n",
              "        async function convertToInteractive(key) {\n",
              "          const element = document.querySelector('#df-42e64a45-9627-4e5b-93b4-04941ff4e5af');\n",
              "          const dataTable =\n",
              "            await google.colab.kernel.invokeFunction('convertToInteractive',\n",
              "                                                     [key], {});\n",
              "          if (!dataTable) return;\n",
              "\n",
              "          const docLinkHtml = 'Like what you see? Visit the ' +\n",
              "            '<a target=\"_blank\" href=https://colab.research.google.com/notebooks/data_table.ipynb>data table notebook</a>'\n",
              "            + ' to learn more about interactive tables.';\n",
              "          element.innerHTML = '';\n",
              "          dataTable['output_type'] = 'display_data';\n",
              "          await google.colab.output.renderOutput(dataTable, element);\n",
              "          const docLink = document.createElement('div');\n",
              "          docLink.innerHTML = docLinkHtml;\n",
              "          element.appendChild(docLink);\n",
              "        }\n",
              "      </script>\n",
              "    </div>\n",
              "  </div>\n",
              "  "
            ]
          },
          "metadata": {},
          "execution_count": 56
        }
      ]
    },
    {
      "cell_type": "code",
      "source": [],
      "metadata": {
        "id": "bguWwm2lX07E"
      },
      "execution_count": null,
      "outputs": []
    }
  ]
}